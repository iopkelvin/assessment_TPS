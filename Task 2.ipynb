{
 "cells": [
  {
   "cell_type": "markdown",
   "metadata": {},
   "source": [
    "# The Primary School - Assessment Task 2"
   ]
  },
  {
   "cell_type": "code",
   "execution_count": 1,
   "metadata": {},
   "outputs": [],
   "source": [
    "import pandas as pd\n",
    "import numpy as np"
   ]
  },
  {
   "cell_type": "code",
   "execution_count": 2,
   "metadata": {},
   "outputs": [],
   "source": [
    "df = pd.read_csv('data_manager_work_sample.csv')"
   ]
  },
  {
   "cell_type": "code",
   "execution_count": 3,
   "metadata": {},
   "outputs": [
    {
     "data": {
      "text/plain": [
       "(4811, 15)"
      ]
     },
     "execution_count": 3,
     "metadata": {},
     "output_type": "execute_result"
    }
   ],
   "source": [
    "df.shape"
   ]
  },
  {
   "cell_type": "code",
   "execution_count": 4,
   "metadata": {},
   "outputs": [
    {
     "data": {
      "text/plain": [
       "Index(['id', 'iep', 'ell', 'grade', 'expected_small', 'expected_1', 'week',\n",
       "       'days_absent', 'whole_group', 'small_group', 'one_one', 'num_complete',\n",
       "       'percent_complete', 'lexia_min', 'dreambox_min'],\n",
       "      dtype='object')"
      ]
     },
     "execution_count": 4,
     "metadata": {},
     "output_type": "execute_result"
    }
   ],
   "source": [
    "df.columns"
   ]
  },
  {
   "cell_type": "code",
   "execution_count": 5,
   "metadata": {},
   "outputs": [
    {
     "data": {
      "text/html": [
       "<div>\n",
       "<style scoped>\n",
       "    .dataframe tbody tr th:only-of-type {\n",
       "        vertical-align: middle;\n",
       "    }\n",
       "\n",
       "    .dataframe tbody tr th {\n",
       "        vertical-align: top;\n",
       "    }\n",
       "\n",
       "    .dataframe thead th {\n",
       "        text-align: right;\n",
       "    }\n",
       "</style>\n",
       "<table border=\"1\" class=\"dataframe\">\n",
       "  <thead>\n",
       "    <tr style=\"text-align: right;\">\n",
       "      <th></th>\n",
       "      <th>id</th>\n",
       "      <th>iep</th>\n",
       "      <th>ell</th>\n",
       "      <th>grade</th>\n",
       "      <th>expected_small</th>\n",
       "      <th>expected_1</th>\n",
       "      <th>week</th>\n",
       "      <th>days_absent</th>\n",
       "      <th>whole_group</th>\n",
       "      <th>small_group</th>\n",
       "      <th>one_one</th>\n",
       "      <th>num_complete</th>\n",
       "      <th>percent_complete</th>\n",
       "      <th>lexia_min</th>\n",
       "      <th>dreambox_min</th>\n",
       "    </tr>\n",
       "  </thead>\n",
       "  <tbody>\n",
       "    <tr>\n",
       "      <th>0</th>\n",
       "      <td>705.0</td>\n",
       "      <td>N</td>\n",
       "      <td>NaN</td>\n",
       "      <td>PS</td>\n",
       "      <td>NaN</td>\n",
       "      <td>NaN</td>\n",
       "      <td>2020-08-19</td>\n",
       "      <td>0.0</td>\n",
       "      <td>NaN</td>\n",
       "      <td>NaN</td>\n",
       "      <td>NaN</td>\n",
       "      <td>NaN</td>\n",
       "      <td>NaN</td>\n",
       "      <td>NaN</td>\n",
       "      <td>NaN</td>\n",
       "    </tr>\n",
       "    <tr>\n",
       "      <th>1</th>\n",
       "      <td>705.0</td>\n",
       "      <td>N</td>\n",
       "      <td>NaN</td>\n",
       "      <td>PS</td>\n",
       "      <td>NaN</td>\n",
       "      <td>NaN</td>\n",
       "      <td>2020-08-24</td>\n",
       "      <td>0.0</td>\n",
       "      <td>NaN</td>\n",
       "      <td>NaN</td>\n",
       "      <td>NaN</td>\n",
       "      <td>NaN</td>\n",
       "      <td>NaN</td>\n",
       "      <td>NaN</td>\n",
       "      <td>NaN</td>\n",
       "    </tr>\n",
       "    <tr>\n",
       "      <th>2</th>\n",
       "      <td>705.0</td>\n",
       "      <td>N</td>\n",
       "      <td>NaN</td>\n",
       "      <td>PS</td>\n",
       "      <td>NaN</td>\n",
       "      <td>NaN</td>\n",
       "      <td>2020-08-31</td>\n",
       "      <td>0.0</td>\n",
       "      <td>NaN</td>\n",
       "      <td>NaN</td>\n",
       "      <td>NaN</td>\n",
       "      <td>NaN</td>\n",
       "      <td>NaN</td>\n",
       "      <td>NaN</td>\n",
       "      <td>NaN</td>\n",
       "    </tr>\n",
       "  </tbody>\n",
       "</table>\n",
       "</div>"
      ],
      "text/plain": [
       "      id iep  ell grade  expected_small  expected_1        week  days_absent  \\\n",
       "0  705.0   N  NaN    PS             NaN         NaN  2020-08-19          0.0   \n",
       "1  705.0   N  NaN    PS             NaN         NaN  2020-08-24          0.0   \n",
       "2  705.0   N  NaN    PS             NaN         NaN  2020-08-31          0.0   \n",
       "\n",
       "   whole_group  small_group  one_one  num_complete  percent_complete  \\\n",
       "0          NaN          NaN      NaN           NaN               NaN   \n",
       "1          NaN          NaN      NaN           NaN               NaN   \n",
       "2          NaN          NaN      NaN           NaN               NaN   \n",
       "\n",
       "   lexia_min  dreambox_min  \n",
       "0        NaN           NaN  \n",
       "1        NaN           NaN  \n",
       "2        NaN           NaN  "
      ]
     },
     "execution_count": 5,
     "metadata": {},
     "output_type": "execute_result"
    }
   ],
   "source": [
    "df.head(3)"
   ]
  },
  {
   "cell_type": "markdown",
   "metadata": {},
   "source": [
    "## 1. How many unique students are represented in the dataset?"
   ]
  },
  {
   "cell_type": "code",
   "execution_count": 6,
   "metadata": {},
   "outputs": [
    {
     "data": {
      "text/plain": [
       "253"
      ]
     },
     "execution_count": 6,
     "metadata": {},
     "output_type": "execute_result"
    }
   ],
   "source": [
    "# Inclues null entries\n",
    "df['id'].nunique(dropna=False)"
   ]
  },
  {
   "cell_type": "code",
   "execution_count": 7,
   "metadata": {},
   "outputs": [
    {
     "data": {
      "text/plain": [
       "26"
      ]
     },
     "execution_count": 7,
     "metadata": {},
     "output_type": "execute_result"
    }
   ],
   "source": [
    "# There are 26 student rows/entries that have null ids\n",
    "sum(df['id'].isnull())"
   ]
  },
  {
   "cell_type": "code",
   "execution_count": 8,
   "metadata": {},
   "outputs": [
    {
     "name": "stdout",
     "output_type": "stream",
     "text": [
      "There are 252 unique students\n",
      "There are 252 unique students\n"
     ]
    }
   ],
   "source": [
    "# Getting rid of null entries\n",
    "a_unique = df[~df['id'].isnull()]['id'].nunique()\n",
    "print('There are {} unique students'.format(a_unique))\n",
    "# or \n",
    "b_unique = df['id'].nunique(dropna=True)\n",
    "print('There are {} unique students'.format(b_unique))"
   ]
  },
  {
   "cell_type": "markdown",
   "metadata": {},
   "source": [
    "## 2. Which students and weeks had perfect attendance (0 absences)?"
   ]
  },
  {
   "cell_type": "code",
   "execution_count": 9,
   "metadata": {},
   "outputs": [
    {
     "name": "stdout",
     "output_type": "stream",
     "text": [
      "Rows that have no perfect attendance: 1540\n"
     ]
    }
   ],
   "source": [
    "df2 = df[['id','week','days_absent']]\n",
    "# Not perfect attendance\n",
    "absence = df2['days_absent'].isin([1.0,2.0,3.0,4.0,np.nan]).sum()\n",
    "print('Rows that have no perfect attendance: {}'.format(absence))"
   ]
  },
  {
   "cell_type": "markdown",
   "metadata": {},
   "source": [
    "### Student IDS with perfect attendance"
   ]
  },
  {
   "cell_type": "code",
   "execution_count": 10,
   "metadata": {
    "scrolled": true
   },
   "outputs": [
    {
     "name": "stdout",
     "output_type": "stream",
     "text": [
      "14    705.0\n",
      "17    705.0\n",
      "30    710.0\n",
      "Name: id, dtype: float64\n"
     ]
    }
   ],
   "source": [
    "# List of student ids that have been absent at least once. They need to be filtered out.\n",
    "absent_ids = df2[df2['days_absent'].isin([1.0,2.0,3.0,4.0,np.nan])]['id']\n",
    "# example\n",
    "print(absent_ids[:3])"
   ]
  },
  {
   "cell_type": "code",
   "execution_count": 11,
   "metadata": {},
   "outputs": [
    {
     "name": "stdout",
     "output_type": "stream",
     "text": [
      "These student ids have never been absent: [700. 720. 742.]\n"
     ]
    }
   ],
   "source": [
    "# Take all data points, then substract the students that have had at least one absence (or null)\n",
    "ids_never_absent = df[~df['id'].isin(list(absent_ids))]['id'].unique()\n",
    "print('These student ids have never been absent: {}'.format(ids_never_absent))"
   ]
  },
  {
   "cell_type": "code",
   "execution_count": 15,
   "metadata": {},
   "outputs": [
    {
     "data": {
      "text/plain": [
       "array(['2020-08-19', '2020-08-24', '2020-08-31', '2020-09-07',\n",
       "       '2020-09-14', '2020-09-21', '2020-09-28', '2020-10-05',\n",
       "       '2020-10-12', '2020-10-19', '2020-10-26', '2020-11-02',\n",
       "       '2020-11-09', '2020-11-16', '2020-11-23', '2020-11-30',\n",
       "       '2020-12-07', '2020-12-14'], dtype=object)"
      ]
     },
     "execution_count": 15,
     "metadata": {},
     "output_type": "execute_result"
    }
   ],
   "source": [
    "# These are the weeks when students (700, 720, 742) attended.\n",
    "df[~df['id'].isin(list(absent_ids))]['week'].unique()"
   ]
  },
  {
   "cell_type": "markdown",
   "metadata": {},
   "source": [
    "* **These student IDS have perfect attendance (0 absences): 700, 720, 742**"
   ]
  },
  {
   "cell_type": "markdown",
   "metadata": {},
   "source": [
    "### Weeks that had perfect attendance"
   ]
  },
  {
   "cell_type": "code",
   "execution_count": 16,
   "metadata": {},
   "outputs": [
    {
     "name": "stdout",
     "output_type": "stream",
     "text": [
      "14    2020-11-23\n",
      "17    2020-12-14\n",
      "30    2020-11-09\n",
      "Name: week, dtype: object\n",
      "14    2020-11-23\n",
      "17    2020-12-14\n",
      "30    2020-11-09\n",
      "Name: week, dtype: object\n"
     ]
    }
   ],
   "source": [
    "# List of weeks that had at least one absence. They need to be filtered out.\n",
    "absent_weeks_withnull = df2[df2['days_absent'].isin([1.0,2.0,3.0,4.0])]['week']\n",
    "absent_weeks_nonull = df2[df2['days_absent'].isin([1.0,2.0,3.0,4.0, np.nan])]['week']\n",
    "# example\n",
    "print(absent_weeks_withnull[:3])\n",
    "print(absent_weeks_nonull[:3])"
   ]
  },
  {
   "cell_type": "code",
   "execution_count": 17,
   "metadata": {
    "scrolled": true
   },
   "outputs": [
    {
     "name": "stdout",
     "output_type": "stream",
     "text": [
      "These weeks had no absence (except null): ['2020-10-08']\n",
      "These weeks had no absence (without null absences): []\n"
     ]
    }
   ],
   "source": [
    "weeks_no_absence_withnull = df[~df['week'].isin(list(absent_weeks_withnull))]['week'].unique()\n",
    "weeks_no_absence_nonull = df[~df['week'].isin(list(absent_weeks_nonull))]['week'].unique()\n",
    "print('These weeks had no absence (except null): {}'.format(weeks_no_absence_withnull))\n",
    "print('These weeks had no absence (without null absences): {}'.format(weeks_no_absence_nonull))"
   ]
  },
  {
   "cell_type": "code",
   "execution_count": 18,
   "metadata": {},
   "outputs": [
    {
     "data": {
      "text/plain": [
       "array([nan])"
      ]
     },
     "execution_count": 18,
     "metadata": {},
     "output_type": "execute_result"
    }
   ],
   "source": [
    "# Further obserce\n",
    "df[df['week'] == '2020-10-08']['days_absent'].unique()\n",
    "# All 'days_absent' values on week 2020-10-08 are null"
   ]
  },
  {
   "cell_type": "markdown",
   "metadata": {},
   "source": [
    "* **There are overall no weeks which had perfect attendance, unless there was a null. (2020-10-08)**"
   ]
  },
  {
   "cell_type": "markdown",
   "metadata": {},
   "source": [
    "## 3. Which grade is spending the most time on Lexia?"
   ]
  },
  {
   "cell_type": "code",
   "execution_count": 19,
   "metadata": {},
   "outputs": [
    {
     "data": {
      "text/plain": [
       "grade\n",
       "1st    3953.0\n",
       "2nd    2879.0\n",
       "3rd    2721.0\n",
       "K      1200.0\n",
       "PK        0.0\n",
       "PS        0.0\n",
       "NaN    1507.0\n",
       "Name: lexia_min, dtype: float64"
      ]
     },
     "execution_count": 19,
     "metadata": {},
     "output_type": "execute_result"
    }
   ],
   "source": [
    "df.groupby('grade', dropna=False).sum()['lexia_min']"
   ]
  },
  {
   "cell_type": "markdown",
   "metadata": {},
   "source": [
    "* **1st grade is spending the most on Lexia $3,953.**\n",
    "* There is also 1,507 being allocated in Lexia but grade is not specified."
   ]
  },
  {
   "cell_type": "markdown",
   "metadata": {},
   "source": [
    "## 4. Which IEP students have had less than 10 1:1 meetings this term?"
   ]
  },
  {
   "cell_type": "code",
   "execution_count": 20,
   "metadata": {},
   "outputs": [
    {
     "name": "stdout",
     "output_type": "stream",
     "text": [
      "57 students are IEP\n"
     ]
    }
   ],
   "source": [
    "is_iep = df[df['iep']=='Y']\n",
    "print('{} students are IEP'.format(is_iep['id'].nunique()))"
   ]
  },
  {
   "cell_type": "code",
   "execution_count": 21,
   "metadata": {},
   "outputs": [],
   "source": [
    "# Mask dataframe that accounts for student ids that had less than 10 one on one meetings (Boolean T/F).\n",
    "is_iep_less10_oneone = pd.DataFrame(is_iep.groupby('id').sum()['one_one']<10).reset_index()"
   ]
  },
  {
   "cell_type": "code",
   "execution_count": 22,
   "metadata": {},
   "outputs": [
    {
     "name": "stdout",
     "output_type": "stream",
     "text": [
      "26    504.0\n",
      "27    513.0\n",
      "28    521.0\n",
      "29    549.0\n",
      "30    586.0\n",
      "32    679.0\n",
      "33    704.0\n",
      "34    710.0\n",
      "35    715.0\n",
      "36    718.0\n",
      "37    732.0\n",
      "38    734.0\n",
      "39    739.0\n",
      "40    789.0\n",
      "Name: id, dtype: float64\n",
      "\n",
      " ids: [504.0, 513.0, 521.0, 549.0, 586.0, 679.0, 704.0, 710.0, 715.0, 718.0, 732.0, 734.0, 739.0, 789.0]\n"
     ]
    }
   ],
   "source": [
    "# Apply mask (ids of students will less than 10 one_one). Show student_id.\n",
    "result = is_iep_less10_oneone[is_iep_less10_oneone['one_one']]['id']\n",
    "print(result)\n",
    "print('\\n ids: {}'.format(list(result)))"
   ]
  },
  {
   "cell_type": "markdown",
   "metadata": {},
   "source": [
    "* These student ids had less than 10 one on one meetings during this term."
   ]
  },
  {
   "cell_type": "markdown",
   "metadata": {},
   "source": [
    "## 5. What percentage of students had 0 absences for all weeks included in the file?"
   ]
  },
  {
   "cell_type": "code",
   "execution_count": 23,
   "metadata": {},
   "outputs": [
    {
     "data": {
      "text/html": [
       "<div>\n",
       "<style scoped>\n",
       "    .dataframe tbody tr th:only-of-type {\n",
       "        vertical-align: middle;\n",
       "    }\n",
       "\n",
       "    .dataframe tbody tr th {\n",
       "        vertical-align: top;\n",
       "    }\n",
       "\n",
       "    .dataframe thead th {\n",
       "        text-align: right;\n",
       "    }\n",
       "</style>\n",
       "<table border=\"1\" class=\"dataframe\">\n",
       "  <thead>\n",
       "    <tr style=\"text-align: right;\">\n",
       "      <th></th>\n",
       "      <th>counts</th>\n",
       "      <th>%</th>\n",
       "    </tr>\n",
       "  </thead>\n",
       "  <tbody>\n",
       "    <tr>\n",
       "      <th>0.0</th>\n",
       "      <td>3271</td>\n",
       "      <td>67.99</td>\n",
       "    </tr>\n",
       "    <tr>\n",
       "      <th>NaN</th>\n",
       "      <td>728</td>\n",
       "      <td>15.13</td>\n",
       "    </tr>\n",
       "    <tr>\n",
       "      <th>1.0</th>\n",
       "      <td>517</td>\n",
       "      <td>10.75</td>\n",
       "    </tr>\n",
       "    <tr>\n",
       "      <th>2.0</th>\n",
       "      <td>165</td>\n",
       "      <td>3.43</td>\n",
       "    </tr>\n",
       "    <tr>\n",
       "      <th>3.0</th>\n",
       "      <td>76</td>\n",
       "      <td>1.58</td>\n",
       "    </tr>\n",
       "    <tr>\n",
       "      <th>4.0</th>\n",
       "      <td>54</td>\n",
       "      <td>1.12</td>\n",
       "    </tr>\n",
       "  </tbody>\n",
       "</table>\n",
       "</div>"
      ],
      "text/plain": [
       "     counts      %\n",
       "0.0    3271  67.99\n",
       "NaN     728  15.13\n",
       "1.0     517  10.75\n",
       "2.0     165   3.43\n",
       "3.0      76   1.58\n",
       "4.0      54   1.12"
      ]
     },
     "execution_count": 23,
     "metadata": {},
     "output_type": "execute_result"
    }
   ],
   "source": [
    "c = df['days_absent'].value_counts(dropna=False)\n",
    "p = round(df['days_absent'].value_counts(dropna=False, normalize=True)*100, 2)\n",
    "pd.concat([c,p], axis=1, keys=['counts', '%'])"
   ]
  },
  {
   "cell_type": "markdown",
   "metadata": {},
   "source": [
    "Students have been absent 0, 1, 2, 3, and 4 times. \n",
    "* 15% of the entries in attendance are null.\n",
    "* Most students have attended class 68% of the time"
   ]
  },
  {
   "cell_type": "markdown",
   "metadata": {},
   "source": [
    "### Final Notes"
   ]
  },
  {
   "cell_type": "markdown",
   "metadata": {},
   "source": [
    "1. The database for this term contains too many null values in every single column. The most important one (id) also contains null values, which will create a lot of issues because we will be unable to identify which student it is referring to.\n",
    "2. The column labels are not clear. We need to name the labels clearly, or provide adittional information (documentation)."
   ]
  }
 ],
 "metadata": {
  "kernelspec": {
   "display_name": "Python 3",
   "language": "python",
   "name": "python3"
  },
  "language_info": {
   "codemirror_mode": {
    "name": "ipython",
    "version": 3
   },
   "file_extension": ".py",
   "mimetype": "text/x-python",
   "name": "python",
   "nbconvert_exporter": "python",
   "pygments_lexer": "ipython3",
   "version": "3.8.5"
  }
 },
 "nbformat": 4,
 "nbformat_minor": 4
}
